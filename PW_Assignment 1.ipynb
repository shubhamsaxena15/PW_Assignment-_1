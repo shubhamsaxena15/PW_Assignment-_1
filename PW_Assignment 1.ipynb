{
 "cells": [
  {
   "cell_type": "code",
   "execution_count": 1,
   "id": "1cfa9e49-9b82-4617-87dd-c407a9ce6e38",
   "metadata": {
    "tags": []
   },
   "outputs": [
    {
     "name": "stdout",
     "output_type": "stream",
     "text": [
      "<class 'str'>\n",
      "PW skill is very good plateform\n"
     ]
    }
   ],
   "source": [
    "#PW_data_science2.0 batch_Assignment 1\n",
    "\n",
    "#Question_no_1 :- Create one variable containing following types of data\n",
    "\n",
    "#(1)variable containing string type of data\n",
    "content_box = (\"PW skill is very good plateform\")\n",
    "print(type(content_box))\n",
    "print(content_box)\n"
   ]
  },
  {
   "cell_type": "code",
   "execution_count": 2,
   "id": "d8d9508c-1d1c-4cfd-9d05-9d16ee3c0e07",
   "metadata": {},
   "outputs": [
    {
     "name": "stdout",
     "output_type": "stream",
     "text": [
      "<class 'list'>\n",
      "['sachin', 'ram', 12, True, False]\n"
     ]
    }
   ],
   "source": [
    "#(2)variable containing list type of data\n",
    "content_box = [ \"sachin\" , \"ram\" , 12 , True , False, ]\n",
    "print(type(content_box))\n",
    "print(content_box)\n"
   ]
  },
  {
   "cell_type": "code",
   "execution_count": 3,
   "id": "ef136fd3-3546-4a31-86ec-fbe360ecc9db",
   "metadata": {},
   "outputs": [
    {
     "name": "stdout",
     "output_type": "stream",
     "text": [
      "<class 'float'>\n"
     ]
    }
   ],
   "source": [
    "#(3)variable containing float type of data\n",
    "content_box = 1.25\n",
    "print(type(content_box))\n"
   ]
  },
  {
   "cell_type": "code",
   "execution_count": 4,
   "id": "a14f9ff1-cfc0-408a-8d4d-27b83d8037d3",
   "metadata": {},
   "outputs": [
    {
     "name": "stdout",
     "output_type": "stream",
     "text": [
      "<class 'tuple'>\n"
     ]
    }
   ],
   "source": [
    "#(4)variable containing tuple type of data\n",
    "content_box = (\"ram\",\"shyam\",1,2,3,1.25,True,False)\n",
    "print(type(content_box))\n"
   ]
  },
  {
   "cell_type": "code",
   "execution_count": 5,
   "id": "0d384552-f394-4abf-951b-ea6711d47545",
   "metadata": {},
   "outputs": [
    {
     "data": {
      "text/plain": [
       "str"
      ]
     },
     "execution_count": 5,
     "metadata": {},
     "output_type": "execute_result"
    }
   ],
   "source": [
    "#Question_2 :- Giving are some following variable containing data , what will be the data type\n",
    "#Q_2.1\n",
    "var1=''\n",
    "type(var1)"
   ]
  },
  {
   "cell_type": "code",
   "execution_count": 6,
   "id": "bdf8b6fd-fb6c-4ddb-9cf2-620993bf3bac",
   "metadata": {},
   "outputs": [
    {
     "data": {
      "text/plain": [
       "str"
      ]
     },
     "execution_count": 6,
     "metadata": {},
     "output_type": "execute_result"
    }
   ],
   "source": [
    "#Q_2.2\n",
    "var2='[DS,ML,Python]'\n",
    "type(var2)\n"
   ]
  },
  {
   "cell_type": "code",
   "execution_count": 7,
   "id": "b617472d-bb25-4d4f-b0f0-1c00c8945561",
   "metadata": {},
   "outputs": [
    {
     "data": {
      "text/plain": [
       "list"
      ]
     },
     "execution_count": 7,
     "metadata": {},
     "output_type": "execute_result"
    }
   ],
   "source": [
    "#Q_2.3\n",
    "var3=['DS','ML','python']\n",
    "type(var3)\n"
   ]
  },
  {
   "cell_type": "code",
   "execution_count": 8,
   "id": "17916b12-e42c-4b95-9797-d094b7614e5e",
   "metadata": {},
   "outputs": [
    {
     "data": {
      "text/plain": [
       "float"
      ]
     },
     "execution_count": 8,
     "metadata": {},
     "output_type": "execute_result"
    }
   ],
   "source": [
    "#Q_2.4\n",
    "var4=1.\n",
    "type(var4)\n"
   ]
  },
  {
   "cell_type": "code",
   "execution_count": 9,
   "id": "f6b7f072-29d2-408a-9c92-936ac11a9247",
   "metadata": {},
   "outputs": [
    {
     "data": {
      "text/plain": [
       "2.0"
      ]
     },
     "execution_count": 9,
     "metadata": {},
     "output_type": "execute_result"
    }
   ],
   "source": [
    "#Question_3 :- Explain the use of the following operators using an example\n",
    "#Q_3.1 :- /\n",
    "a = 4/2\n",
    "a\n"
   ]
  },
  {
   "cell_type": "code",
   "execution_count": 10,
   "id": "c997f61d-db24-461d-acc8-44125bf9998b",
   "metadata": {},
   "outputs": [
    {
     "data": {
      "text/plain": [
       "1"
      ]
     },
     "execution_count": 10,
     "metadata": {},
     "output_type": "execute_result"
    }
   ],
   "source": [
    "#Q_3.2 :- %\n",
    "b = 5%2\n",
    "b\n"
   ]
  },
  {
   "cell_type": "code",
   "execution_count": 11,
   "id": "f89fe01a-db8c-4930-9809-98c28679afb0",
   "metadata": {},
   "outputs": [
    {
     "data": {
      "text/plain": [
       "1"
      ]
     },
     "execution_count": 11,
     "metadata": {},
     "output_type": "execute_result"
    }
   ],
   "source": [
    "#Q_3.3 :- //\n",
    "c = 3//2\n",
    "c\n"
   ]
  },
  {
   "cell_type": "code",
   "execution_count": 12,
   "id": "d926def0-3520-4b21-b4ba-071ac3b167dd",
   "metadata": {},
   "outputs": [
    {
     "data": {
      "text/plain": [
       "16"
      ]
     },
     "execution_count": 12,
     "metadata": {},
     "output_type": "execute_result"
    }
   ],
   "source": [
    "#Q_3.4 :- **\n",
    "d = 2**4\n",
    "d\n"
   ]
  },
  {
   "cell_type": "code",
   "execution_count": 13,
   "id": "82fd10fe-c78e-49ad-b1f5-87bc1e4a3c3a",
   "metadata": {},
   "outputs": [
    {
     "name": "stdout",
     "output_type": "stream",
     "text": [
      " length of list : 10\n",
      " pwskill , Type of pwskill is : <class 'str'>\n",
      " pw , Type of pw is : <class 'str'>\n",
      " list , Type of list is : <class 'str'>\n",
      " stack , Type of stack is : <class 'str'>\n",
      " 1 , Type of 1 is : <class 'int'>\n",
      " 4 , Type of 4 is : <class 'int'>\n",
      " 1.2 , Type of 1.2 is : <class 'float'>\n",
      " True , Type of True is : <class 'bool'>\n",
      " False , Type of False is : <class 'bool'>\n",
      " _1234as , Type of _1234as is : <class 'str'>\n"
     ]
    }
   ],
   "source": [
    "#Question_4 :- create a list of length 10 of your choice containing multiple types of data.\n",
    "#using for loop print the element and its dasta type\n",
    "list = [ \"pwskill\" , \"pw\" , \"list\" , \"stack\" , 1 ,4 , 1.20 , True , False , \"_1234as\"]\n",
    "print(f\" length of list : {len(list)}\")\n",
    "for value in list:\n",
    "    print(f\" {value} , Type of {value} is : {type(value)}\")\n"
   ]
  },
  {
   "cell_type": "code",
   "execution_count": 14,
   "id": "ef934c03-842e-4724-a4d7-34d5bddc5bf2",
   "metadata": {},
   "outputs": [
    {
     "name": "stdin",
     "output_type": "stream",
     "text": [
      " enter dividend no.  6\n",
      " enter divisor no.  3\n"
     ]
    },
    {
     "name": "stdout",
     "output_type": "stream",
     "text": [
      "2\n"
     ]
    }
   ],
   "source": [
    "#Question_5 :- using a while loop, verify if the number A is purely divisible by B\n",
    "#and if so then how many times it can be divisible\n",
    "dividend = int(input(\" enter dividend no. \"))\n",
    "divisor = int(input(\" enter divisor no. \"))\n",
    "\n",
    "if (dividend % divisor != 0):\n",
    "    print(\" no is not purealy divisible\")\n",
    "else:\n",
    "    while dividend % divisor == 0:\n",
    "        quotient = dividend // divisor\n",
    "        print (quotient)\n",
    "        break\n"
   ]
  },
  {
   "cell_type": "code",
   "execution_count": 15,
   "id": "17d6c68a-3bff-45f8-a45d-1b3812c09bf3",
   "metadata": {},
   "outputs": [
    {
     "name": "stdin",
     "output_type": "stream",
     "text": [
      " enter dividend no.  5\n",
      " enter divisor no.  3\n"
     ]
    },
    {
     "name": "stdout",
     "output_type": "stream",
     "text": [
      " no is not purealy divisible\n"
     ]
    }
   ],
   "source": [
    "#Question_5:-Question_5 :- using a while loop, verify if the number A is purely divisible by B\n",
    "#and if so then how many times it can be divisible\n",
    "dividend = int(input(\" enter dividend no. \"))\n",
    "divisor = int(input(\" enter divisor no. \"))\n",
    "\n",
    "if (dividend % divisor != 0):\n",
    "    print(\" no is not purealy divisible\")\n",
    "else:\n",
    "    while dividend % divisor == 0:\n",
    "        quotient = dividend // divisor\n",
    "        print (quotient)\n",
    "        break"
   ]
  },
  {
   "cell_type": "code",
   "execution_count": 16,
   "id": "e11e11db-0287-4d1f-a351-89aaee509a36",
   "metadata": {},
   "outputs": [
    {
     "name": "stdout",
     "output_type": "stream",
     "text": [
      " total length of list_of_integer : 25\n",
      " 23 : it is not divisible by 3\n",
      " 24 : it is divisible 3\n",
      " 27 : it is divisible 3\n",
      " 30 : it is divisible 3\n",
      " 31 : it is not divisible by 3\n",
      " 32 : it is not divisible by 3\n",
      " 33 : it is divisible 3\n",
      " 35 : it is not divisible by 3\n",
      " 38 : it is not divisible by 3\n",
      " 39 : it is divisible 3\n",
      " 49 : it is not divisible by 3\n",
      " 41 : it is not divisible by 3\n",
      " 42 : it is divisible 3\n",
      " 43 : it is not divisible by 3\n",
      " 44 : it is not divisible by 3\n",
      " 45 : it is divisible 3\n",
      " 46 : it is not divisible by 3\n",
      " 46 : it is not divisible by 3\n",
      " 47 : it is not divisible by 3\n",
      " 48 : it is divisible 3\n",
      " 49 : it is not divisible by 3\n",
      " 50 : it is not divisible by 3\n",
      " 51 : it is divisible 3\n",
      " 52 : it is not divisible by 3\n",
      " 90 : it is divisible 3\n",
      " Thank You PhysicsWallah \n"
     ]
    }
   ],
   "source": [
    "#Question_6 :- Create a list containing 25 int type data.using for loop\n",
    "#and if-else condition print if the element is divisible by 3 or not\n",
    "list_of_integer= [ 23,24,27,30,31,32,33,35,38,39,49,41,42,43,44,45,46,46,47,48,49,50,51,52,90]\n",
    "print(f\" total length of list_of_integer : {len(list_of_integer)}\")\n",
    "for value in list_of_integer:\n",
    "    if value%3==0:\n",
    "        print (f\" {value} : it is divisible 3\")\n",
    "    else:\n",
    "        print(f\" {value} : it is not divisible by 3\")\n",
    "print(\" Thank You PhysicsWallah \")\n"
   ]
  },
  {
   "cell_type": "code",
   "execution_count": 17,
   "id": "b86847ff-fa7b-4e79-bf11-d3be1233678d",
   "metadata": {},
   "outputs": [
    {
     "data": {
      "text/plain": [
       "['red', 'yellow', 'green', 'purple', 'blue']"
      ]
     },
     "execution_count": 17,
     "metadata": {},
     "output_type": "execute_result"
    }
   ],
   "source": [
    "#Question 7 :- what do you understand about mutable and immutable data types\n",
    "#? give examples for both showing this property?\n",
    "#mutable data type :- List are mutable because The ability to swao values in a list for other \n",
    "#values is called mutability.\n",
    "#example of mutable data type\n",
    "colour=[\"red\",\"orange\",\"magenta\",\"aqua\",\"blue\"]\n",
    "colour[1:4]=[\"yellow\",\"green\",\"purple\"]\n",
    "colour"
   ]
  },
  {
   "cell_type": "code",
   "execution_count": 19,
   "id": "436158db-fd6d-4462-b552-81de13cf9594",
   "metadata": {},
   "outputs": [
    {
     "name": "stdout",
     "output_type": "stream",
     "text": [
      "PICARD\n"
     ]
    },
    {
     "data": {
      "text/plain": [
       "'Picard'"
      ]
     },
     "execution_count": 19,
     "metadata": {},
     "output_type": "execute_result"
    }
   ],
   "source": [
    "#Question 7 :- what do you understand about mutable and immutable data types\n",
    "#? give examples for both showing this property?\n",
    "#immutable data type:- strings are immutable they can't changed once they havebeen created.\"\"\"\n",
    "name=\"Picard\"\n",
    "print(name.upper())\n",
    "name\n"
   ]
  }
 ],
 "metadata": {
  "kernelspec": {
   "display_name": "Python 3 (ipykernel)",
   "language": "python",
   "name": "python3"
  },
  "language_info": {
   "codemirror_mode": {
    "name": "ipython",
    "version": 3
   },
   "file_extension": ".py",
   "mimetype": "text/x-python",
   "name": "python",
   "nbconvert_exporter": "python",
   "pygments_lexer": "ipython3",
   "version": "3.10.8"
  }
 },
 "nbformat": 4,
 "nbformat_minor": 5
}
