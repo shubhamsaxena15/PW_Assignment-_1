{
 "cells": [
  {
   "cell_type": "code",
   "execution_count": 30,
   "id": "b4b3cd95-8906-44b1-96ef-fb930d234ee7",
   "metadata": {},
   "outputs": [
    {
     "name": "stdout",
     "output_type": "stream",
     "text": [
      "Thank you PHYSICS WALLAH\n"
     ]
    }
   ],
   "source": [
    "# Question_1How do you comment code in python?What are the different types of comments?\n",
    "# Answer_1 :- comments in python are identified with a # symbol.\n",
    "#there are three ways to write a comment 1) Single Line comments\n",
    "# 2) multiline comments  3) docstring comments\n",
    "\n",
    "#1) Example of single line comments\n",
    "#This comment ignored by interpreter.\n",
    "print(\"Thank you PHYSICS WALLAH\")\n",
    "#print(\"It is Comment Code\")\n"
   ]
  },
  {
   "cell_type": "code",
   "execution_count": 31,
   "id": "c2b363cf-4295-4723-b386-b4acaabad5e0",
   "metadata": {},
   "outputs": [
    {
     "name": "stdout",
     "output_type": "stream",
     "text": [
      "PW is doing great job\n"
     ]
    }
   ],
   "source": [
    "#2) Example of multi line comments\n",
    "#all are best\n",
    "#all are good\n",
    "#all are equal\n",
    "# all are doing well\n",
    "print(\"PW is doing great job\")\n"
   ]
  },
  {
   "cell_type": "code",
   "execution_count": 32,
   "id": "47d83470-8fe6-49d9-9421-51d07e2b9f74",
   "metadata": {},
   "outputs": [
    {
     "name": "stdout",
     "output_type": "stream",
     "text": [
      "PW is doing great job\n"
     ]
    }
   ],
   "source": [
    "#3) Example of doctrings\n",
    "#the next way is by using strings literals but not assigning them to any variable.\n",
    "#if you do not assign a string literal to a variable,the python interpreter ignores it.\n",
    "# you can use ' '  / \" \"  / \"\"\" \"\"\"\n",
    "# use ' '\n",
    "'all are best'\n",
    "'all are good'\n",
    "'all are equal'\n",
    "'all are doing well'\n",
    "print(\"PW is doing great job\")\n"
   ]
  },
  {
   "cell_type": "code",
   "execution_count": 33,
   "id": "4418194f-96ee-419f-8536-137f518e5835",
   "metadata": {},
   "outputs": [
    {
     "name": "stdout",
     "output_type": "stream",
     "text": [
      "PW is doing great job\n"
     ]
    }
   ],
   "source": [
    "#use \" \"\n",
    "\"all are best\"\n",
    "\"all are good\"\n",
    "\"all are equal\"\n",
    "\"all are doing well\"\n",
    "print(\"PW is doing great job\")\n",
    "\n"
   ]
  },
  {
   "cell_type": "code",
   "execution_count": 34,
   "id": "0c0ec7f5-4987-40f6-8e51-e6234fa2db49",
   "metadata": {},
   "outputs": [
    {
     "name": "stdout",
     "output_type": "stream",
     "text": [
      "PW is doing great job\n"
     ]
    }
   ],
   "source": [
    "#use \"\"\" \"\"\"\n",
    "\"\"\"all are best\n",
    "all are good\n",
    "all are equal\n",
    "all are doing well\"\"\"\n",
    "print(\"PW is doing great job\")\n"
   ]
  },
  {
   "cell_type": "code",
   "execution_count": 35,
   "id": "0eedb10b-08f4-4981-840a-f76ff1479cf1",
   "metadata": {},
   "outputs": [
    {
     "name": "stdout",
     "output_type": "stream",
     "text": [
      "23\n"
     ]
    }
   ],
   "source": [
    "#Question_2 what are variable in python? How do you declare and assign values to variables?\n",
    "#Answer_2 Variable:- variables are contaioners for storing data value.\n",
    "#python has no command for declaring a variables.\n",
    "#A variables is created the moment you first assign a value to it.\n",
    "#value assigning to a variable\n",
    "variable = 23\n",
    "print(variable)\n"
   ]
  },
  {
   "cell_type": "code",
   "execution_count": 36,
   "id": "f587744b-7cac-422b-9781-dff509a2d745",
   "metadata": {},
   "outputs": [
    {
     "name": "stdout",
     "output_type": "stream",
     "text": [
      "<class 'int'>\n",
      "<class 'float'>\n"
     ]
    }
   ],
   "source": [
    "#Question_3 how do you convert one data type to another in python?\n",
    "#Answer_3 Type conversion is process of converting one data type to another.\n",
    "#Two types of type conversion in python\n",
    "#1) implicit type conversion  2) explicit type conversion\n",
    "#Example of implicit type conversion:- python automatically convertsa to int\n",
    "a = 4\n",
    "print(type(a))\n",
    "b=2.5\n",
    "print(type(b))\n"
   ]
  },
  {
   "cell_type": "code",
   "execution_count": 37,
   "id": "0a395961-3278-4265-a73e-451db435c55d",
   "metadata": {},
   "outputs": [
    {
     "name": "stdout",
     "output_type": "stream",
     "text": [
      "4\n",
      "<class 'str'>\n",
      "2.5\n",
      "1\n",
      "2.0\n",
      "[1, 2, 4, 5, 'aaa']\n",
      "(4, 'gh', 'ty', 5, 3)\n"
     ]
    }
   ],
   "source": [
    "#Example of explicit type conversion:- user involvment is required\n",
    "a = 4\n",
    "c=str(a)\n",
    "print(c)\n",
    "print(type(c))\n",
    "b=2.5\n",
    "d= str(b)\n",
    "print(d)\n",
    "e=1.0\n",
    "f=int(e)\n",
    "print(f)\n",
    "g=2\n",
    "h=float(g)\n",
    "print(h)\n",
    "i=(1,2,4,5,\"aaa\")\n",
    "j=list(i)\n",
    "print(j)\n",
    "k=[4,\"gh\",\"ty\",5,3]\n",
    "l=tuple(k)\n",
    "print(l)\n"
   ]
  },
  {
   "cell_type": "code",
   "execution_count": 38,
   "id": "11724032-b487-4ba1-bff7-94f9e25e7bf7",
   "metadata": {},
   "outputs": [],
   "source": [
    "#Question_4 How do you write and execute a python script from the command line?\n",
    "# Answer_4 first we directly execute on cmd\n",
    "#>>> print(\"hello\")\n",
    "#hello\n",
    "#first i create text file in E directory\n",
    "#and run it by following procedure\n",
    "#C:\\Users\\rtyrt>python\n",
    "#>>> exit()\n",
    "#C:\\Users\\as>e:\n",
    "#E:\\>python hello.py\n",
    "#hello world   \"\"\"\n"
   ]
  },
  {
   "cell_type": "code",
   "execution_count": 39,
   "id": "e936e442-f94e-4280-820a-9e2756ed5d57",
   "metadata": {},
   "outputs": [
    {
     "name": "stdout",
     "output_type": "stream",
     "text": [
      "[2, 3]\n",
      "[1, 2, 3, 4, 5]\n"
     ]
    }
   ],
   "source": [
    "#Question_5 Given a list my_list=[1,2,3,4,5],write the code to slice the list and obtain the sub-list [2,3]?\n",
    "#Answer_5\n",
    "my_list=[1,2,3,4,5]\n",
    "sub_list = my_list[1:3]\n",
    "print(sub_list)\n",
    "print(my_list)\n"
   ]
  },
  {
   "cell_type": "code",
   "execution_count": 40,
   "id": "a72af8f7-e7f7-414a-8638-6b46686ecede",
   "metadata": {},
   "outputs": [
    {
     "name": "stdout",
     "output_type": "stream",
     "text": [
      "<class 'complex'>\n",
      "1.0\n",
      "2.0\n",
      "(1-2j)\n"
     ]
    }
   ],
   "source": [
    "#Question_6 what is a complex number in mathematics, and how is it represented in python?\n",
    "# Answer_6 Python provide built -in-support for complex numbers.\n",
    "#complex numbers are the numbers that are expressed in the form of (a+bi) where a,b are real numbers and \n",
    "#i is an imaginary number called \"iota\". the value of i is i= square root of (-1)\n",
    "# representation of complex number in python is, yopu simply write the real part followed by a\n",
    "#plus sign and imaginary part with letter j at the end (a+bj)\n",
    "#python return both the component as float\n",
    "n = 1+2j\n",
    "print(type(n))\n",
    "print(n.real)\n",
    "print(n.imag)\n",
    "print(n.conjugate())\n",
    "\n"
   ]
  },
  {
   "cell_type": "code",
   "execution_count": 41,
   "id": "638fca83-f72f-4711-8743-c187891ac3db",
   "metadata": {},
   "outputs": [
    {
     "name": "stdout",
     "output_type": "stream",
     "text": [
      "25\n",
      "25\n"
     ]
    }
   ],
   "source": [
    "#Question_7what is a correct way to declare a variable named age and assign the value 25 to it?\n",
    "#Answer_7\n",
    "age = 25\n",
    "print (age)\n",
    "var_age = 25\n",
    "print(var_age)"
   ]
  },
  {
   "cell_type": "code",
   "execution_count": 42,
   "id": "5a59020a-cbb8-4112-a917-e3ad9e326969",
   "metadata": {},
   "outputs": [
    {
     "name": "stdout",
     "output_type": "stream",
     "text": [
      "<class 'float'>\n",
      "9.99\n"
     ]
    }
   ],
   "source": [
    "#Question_8 declare a variable named price and assign the value 9.99 to it. what data types does this variable belong to?\n",
    "#Answer_8\n",
    "price = 9.99\n",
    "print(type(price))\n",
    "print(price)\n"
   ]
  },
  {
   "cell_type": "code",
   "execution_count": 43,
   "id": "de54e21d-89d9-407c-85c4-5e2b60d45cc6",
   "metadata": {},
   "outputs": [
    {
     "name": "stdout",
     "output_type": "stream",
     "text": [
      " may name is:  Shubham Saxena\n"
     ]
    }
   ],
   "source": [
    "#Question_9 create a variable named name and assign your full name to it as a string. how would you\n",
    "#Answer_9 print the value of this variable?\n",
    "name = \"Shubham Saxena\"\n",
    "print (f\" may name is:  {name}\")"
   ]
  },
  {
   "cell_type": "code",
   "execution_count": 44,
   "id": "e8145fdc-b5fc-4dd0-8031-0518a4cf681c",
   "metadata": {},
   "outputs": [
    {
     "name": "stdout",
     "output_type": "stream",
     "text": [
      "world\n"
     ]
    }
   ],
   "source": [
    "#Question_10 given the string \"hello,world!\",extract the substring \"world\".\n",
    "#Answer_10\n",
    "string = \"hello world\"\n",
    "new_extract_sub_string = string[6:]\n",
    "print (new_extract_sub_string)"
   ]
  },
  {
   "cell_type": "code",
   "execution_count": 45,
   "id": "d25f3b9e-c320-4fa9-8f80-34bb5e761290",
   "metadata": {},
   "outputs": [
    {
     "name": "stdout",
     "output_type": "stream",
     "text": [
      "<class 'bool'>\n",
      "indicating whether you are currently a student or not :- False\n"
     ]
    }
   ],
   "source": [
    "#Question_11 Create a variable named \"is_student\" and assign it a boolean value indicating whether \n",
    "#you are currently a student or not?       \n",
    "#Answer_11\n",
    "is_student = False\n",
    "print(type(is_student))\n",
    "print(f\"indicating whether you are currently a student or not :- {is_student}\")\n",
    "\n"
   ]
  },
  {
   "cell_type": "code",
   "execution_count": null,
   "id": "f2a50250-f5df-4197-8f9e-bf3d06351a98",
   "metadata": {},
   "outputs": [],
   "source": []
  }
 ],
 "metadata": {
  "kernelspec": {
   "display_name": "Python 3 (ipykernel)",
   "language": "python",
   "name": "python3"
  },
  "language_info": {
   "codemirror_mode": {
    "name": "ipython",
    "version": 3
   },
   "file_extension": ".py",
   "mimetype": "text/x-python",
   "name": "python",
   "nbconvert_exporter": "python",
   "pygments_lexer": "ipython3",
   "version": "3.10.8"
  }
 },
 "nbformat": 4,
 "nbformat_minor": 5
}
