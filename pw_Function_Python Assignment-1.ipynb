{
 "cells": [
  {
   "cell_type": "code",
   "execution_count": 1,
   "id": "b0369c2e-848c-4a9b-80a8-e6a1deaed9b5",
   "metadata": {},
   "outputs": [
    {
     "data": {
      "text/plain": [
       "'Q1. Which keyword is used to create a function? Create a function to return a list of odd numbers in the\\nrange of 1 to 25.'"
      ]
     },
     "execution_count": 1,
     "metadata": {},
     "output_type": "execute_result"
    }
   ],
   "source": [
    "\"\"\"Q1. Which keyword is used to create a function? Create a function to return a list of odd numbers in the\n",
    "range of 1 to 25.\"\"\""
   ]
  },
  {
   "cell_type": "code",
   "execution_count": 7,
   "id": "c8621483-4043-40e6-9d51-99dc0cab8b1f",
   "metadata": {},
   "outputs": [
    {
     "name": "stdout",
     "output_type": "stream",
     "text": [
      "[1, 3, 5, 7, 9, 11, 13, 15, 17, 19, 21, 23]\n"
     ]
    }
   ],
   "source": [
    "# Answer_1\n",
    "# def keyword is used to create a function.\n",
    "\n",
    "def list_odd_no():\n",
    "    list_l = []\n",
    "    for i in range (1,25):\n",
    "        if i % 2 != 0:\n",
    "            list_l.append(i)\n",
    "\n",
    "    return list_l\n",
    "list=list_odd_no()\n",
    "print(list)"
   ]
  },
  {
   "cell_type": "code",
   "execution_count": 3,
   "id": "a7fbc67e-cd4b-45ff-81c3-d4179f047300",
   "metadata": {},
   "outputs": [
    {
     "data": {
      "text/plain": [
       "'Q2. Why *args and **kwargs is used in some functions? Create a function each for *args and **kwargs\\nto demonstrate their use.'"
      ]
     },
     "execution_count": 3,
     "metadata": {},
     "output_type": "execute_result"
    }
   ],
   "source": [
    "\"\"\"Q2. Why *args and **kwargs is used in some functions? Create a function each for *args and **kwargs\n",
    "to demonstrate their use.\"\"\""
   ]
  },
  {
   "cell_type": "code",
   "execution_count": 8,
   "id": "cb1bb922-54dd-4a87-8e1d-818f58cde0bc",
   "metadata": {},
   "outputs": [
    {
     "data": {
      "text/plain": [
       "3500"
      ]
     },
     "execution_count": 8,
     "metadata": {},
     "output_type": "execute_result"
    }
   ],
   "source": [
    "# Answer_2\n",
    "# *args and **kwargs allow you to pass multiple arguments or keyword arguments to a function\n",
    "# *args - The *args property is used to send a non-keyword variable length argument to a function call \n",
    "# **kwargs - **kwargs keyword is used to pass a keyword length of arguments to a function.\n",
    "\n",
    "# use of*args\n",
    "def sum_args(*args):\n",
    "    x=0\n",
    "    for i in args:\n",
    "        x = x+i\n",
    "    return x\n",
    "sum_args(100,200,300,400,500,500,500,1000)"
   ]
  },
  {
   "cell_type": "code",
   "execution_count": 9,
   "id": "1efb1be3-ebfb-4c8c-9bf7-43523faacce5",
   "metadata": {},
   "outputs": [
    {
     "name": "stdout",
     "output_type": "stream",
     "text": [
      "{'Course_Name': 'Data_Science', 'Duration': 'one_Yaer', 'Mentor': 'Sudhansh_Sir'}\n"
     ]
    }
   ],
   "source": [
    "# Answer_2\n",
    "#use of *kwargs\n",
    "def use_of_kwargs(**kwargs):\n",
    "    print(kwargs)\n",
    "use_of_kwargs(Course_Name= \"Data_Science\" , Duration = \"one_Yaer\" , Mentor = \"Sudhansh_Sir\")"
   ]
  },
  {
   "cell_type": "code",
   "execution_count": 6,
   "id": "f64e1d8b-9668-4160-8cce-83169ba65404",
   "metadata": {},
   "outputs": [
    {
     "data": {
      "text/plain": [
       "'Q3. What is an iterator in python? Name the method used to initialise the iterator object and \\nthe method used for iteration. Use these methods to print the first five elements of the given list\\n[2, 4, 6, 8, 10, 12, 14,16, 18, 20].'"
      ]
     },
     "execution_count": 6,
     "metadata": {},
     "output_type": "execute_result"
    }
   ],
   "source": [
    "\"\"\"Q3. What is an iterator in python? Name the method used to initialise the iterator object and \n",
    "the method used for iteration. Use these methods to print the first five elements of the given list\n",
    "[2, 4, 6, 8, 10, 12, 14,16, 18, 20].\"\"\""
   ]
  },
  {
   "cell_type": "code",
   "execution_count": 10,
   "id": "d8a0f097-e46c-4c46-82a4-3e045be6dbf1",
   "metadata": {},
   "outputs": [
    {
     "name": "stdout",
     "output_type": "stream",
     "text": [
      "2\n"
     ]
    }
   ],
   "source": [
    "# Answer_3\n",
    "# In Python, an iterator is an object that allows you to iterate over collections of data, \n",
    "# such as lists, tuples, dictionaries, and sets.\n",
    "#  method used to initialise the iterator object :  __iter__ \n",
    "#  the method\\nused for iteration : .__next__()\n",
    "\n",
    "list = [2, 4, 6, 8, 10, 12, 14,16, 18, 20]\n",
    "convert_list = iter(list)\n",
    "print(next(convert_list))"
   ]
  },
  {
   "cell_type": "code",
   "execution_count": 8,
   "id": "7d0a366f-dbfd-42fe-ac88-cd2455c0ad61",
   "metadata": {},
   "outputs": [
    {
     "name": "stdout",
     "output_type": "stream",
     "text": [
      "4\n"
     ]
    }
   ],
   "source": [
    "print(next(convert_list))"
   ]
  },
  {
   "cell_type": "code",
   "execution_count": 9,
   "id": "b3dbe885-5b65-4ce3-8d4c-ae3e192b66e9",
   "metadata": {},
   "outputs": [
    {
     "name": "stdout",
     "output_type": "stream",
     "text": [
      "6\n"
     ]
    }
   ],
   "source": [
    "print(next(convert_list))"
   ]
  },
  {
   "cell_type": "code",
   "execution_count": 10,
   "id": "bfed6e3b-e2c4-40db-a3b1-ffa56a2d56a3",
   "metadata": {},
   "outputs": [
    {
     "name": "stdout",
     "output_type": "stream",
     "text": [
      "8\n"
     ]
    }
   ],
   "source": [
    "print(next(convert_list))"
   ]
  },
  {
   "cell_type": "code",
   "execution_count": 11,
   "id": "0ead772f-75ef-4470-8938-ec82e78c774a",
   "metadata": {},
   "outputs": [
    {
     "name": "stdout",
     "output_type": "stream",
     "text": [
      "10\n"
     ]
    }
   ],
   "source": [
    "print(next(convert_list))"
   ]
  },
  {
   "cell_type": "code",
   "execution_count": 11,
   "id": "b902d500-6180-4e7e-b46a-8b612eda1133",
   "metadata": {},
   "outputs": [
    {
     "name": "stdout",
     "output_type": "stream",
     "text": [
      "2\n",
      "4\n",
      "6\n",
      "8\n",
      "10\n",
      "12\n",
      "14\n",
      "16\n",
      "18\n",
      "20\n"
     ]
    }
   ],
   "source": [
    "# Alternate_method\n",
    "\n",
    "def for_print(a):\n",
    "    make_iterator = iter(a)\n",
    "    while True:\n",
    "        try:\n",
    "            print(next(make_iterator))\n",
    "        except StopIteration:\n",
    "            break\n",
    "list = [2, 4, 6, 8, 10, 12, 14,16, 18, 20] \n",
    "\n",
    "for_print(list)"
   ]
  },
  {
   "cell_type": "code",
   "execution_count": 14,
   "id": "55029dfa-bb8d-46d9-bcfe-115a3884a3d7",
   "metadata": {},
   "outputs": [
    {
     "data": {
      "text/plain": [
       "'Q4. What is a generator function in python? Why yield keyword is used? Give an example of a generator\\nfunction.'"
      ]
     },
     "execution_count": 14,
     "metadata": {},
     "output_type": "execute_result"
    }
   ],
   "source": [
    "\"\"\"Q4. What is a generator function in python? Why yield keyword is used? Give an example of a generator\n",
    "function.\"\"\""
   ]
  },
  {
   "cell_type": "code",
   "execution_count": 12,
   "id": "3c53a57c-793b-41bb-9a51-52cb80b523d6",
   "metadata": {},
   "outputs": [
    {
     "name": "stdout",
     "output_type": "stream",
     "text": [
      "<class 'generator'>\n",
      "0\n",
      "2\n",
      "4\n",
      "6\n",
      "8\n"
     ]
    }
   ],
   "source": [
    "# Answer_4\n",
    "# A generator-function is defined like a normal function, \n",
    "# but whenever it needs to generate a value, it does so with the yield keyword rather than return. \n",
    "# If the body of a def contains yield, the function automatically becomes a generator function. \"\"\"\n",
    "# yield keyword is used to create a generator function.\n",
    "\n",
    "# Example of generator\n",
    "\n",
    "def all_even():\n",
    "    n=0\n",
    "    while True:\n",
    "        yield n\n",
    "        n+=2\n",
    "\n",
    "even = all_even()\n",
    "print(type(even))\n",
    "\n",
    "print(next(even))\n",
    "print(next(even))\n",
    "print(next(even))\n",
    "print(next(even))\n",
    "print(next(even))\n",
    "\n"
   ]
  },
  {
   "cell_type": "code",
   "execution_count": 27,
   "id": "c1377990-d09e-41c4-b150-7b60f834732b",
   "metadata": {},
   "outputs": [
    {
     "data": {
      "text/plain": [
       "'Q5. Create a generator function for prime numbers less than 1000. Use the next() method to print the\\nfirst 20 prime numbers.'"
      ]
     },
     "execution_count": 27,
     "metadata": {},
     "output_type": "execute_result"
    }
   ],
   "source": [
    "\"\"\"Q5. Create a generator function for prime numbers less than 1000. Use the next() method to print the\n",
    "first 20 prime numbers.\"\"\""
   ]
  },
  {
   "cell_type": "code",
   "execution_count": 13,
   "id": "af333593-1250-481e-8fc3-b120d2c87f13",
   "metadata": {},
   "outputs": [
    {
     "name": "stdout",
     "output_type": "stream",
     "text": [
      "<class 'generator'>\n",
      "First 20 prime no.\n",
      "('Prime No.', 2)\n",
      "('Prime No.', 3)\n",
      "('Prime No.', 5)\n",
      "('Prime No.', 7)\n",
      "('Prime No.', 11)\n",
      "('Prime No.', 13)\n",
      "('Prime No.', 17)\n",
      "('Prime No.', 19)\n",
      "('Prime No.', 23)\n",
      "('Prime No.', 29)\n",
      "('Prime No.', 31)\n",
      "('Prime No.', 37)\n",
      "('Prime No.', 41)\n",
      "('Prime No.', 43)\n",
      "('Prime No.', 47)\n",
      "('Prime No.', 53)\n",
      "('Prime No.', 59)\n",
      "('Prime No.', 61)\n",
      "('Prime No.', 67)\n",
      "('Prime No.', 71)\n"
     ]
    }
   ],
   "source": [
    "# Answer_5\n",
    "def fun_generator():\n",
    "\n",
    "    count=0\n",
    "    i=1\n",
    "    print(\"First 20 prime no.\")\n",
    "    for j in range (0,100):\n",
    "        count=0\n",
    "        i=1\n",
    "        while i<=j:\n",
    "            if (j%i==0):\n",
    "                count=count+1\n",
    "            i=i+1\n",
    "        if(count==2):\n",
    "            yield \"Prime No.\" , j\n",
    "        \n",
    "                     \n",
    "a=fun_generator()\n",
    "print(type(a))\n",
    "print(next(a))\n",
    "print(next(a))\n",
    "print(next(a))\n",
    "print(next(a))\n",
    "print(next(a))\n",
    "print(next(a))\n",
    "print(next(a))\n",
    "print(next(a))\n",
    "print(next(a))\n",
    "print(next(a))\n",
    "print(next(a))\n",
    "print(next(a))\n",
    "print(next(a))\n",
    "print(next(a))\n",
    "print(next(a))\n",
    "print(next(a))\n",
    "print(next(a))\n",
    "print(next(a))\n",
    "print(next(a))\n",
    "print(next(a))"
   ]
  },
  {
   "cell_type": "code",
   "execution_count": 29,
   "id": "9dbbf66b-063b-4287-81ef-a9f2035545cd",
   "metadata": {},
   "outputs": [
    {
     "data": {
      "text/plain": [
       "'Q6. Write a python program to print the first 10 Fibonacci numbers using a while loop.'"
      ]
     },
     "execution_count": 29,
     "metadata": {},
     "output_type": "execute_result"
    }
   ],
   "source": [
    "\"\"\"Q6. Write a python program to print the first 10 Fibonacci numbers using a while loop.\"\"\""
   ]
  },
  {
   "cell_type": "code",
   "execution_count": 14,
   "id": "7720052c-7150-476b-8f6d-138273a28a34",
   "metadata": {},
   "outputs": [
    {
     "name": "stdin",
     "output_type": "stream",
     "text": [
      "Enter Fibonacci No :  10\n"
     ]
    },
    {
     "name": "stdout",
     "output_type": "stream",
     "text": [
      "Fibonacci Sequence\n",
      "0\n",
      "1\n",
      "1\n",
      "2\n",
      "3\n",
      "5\n",
      "8\n",
      "13\n",
      "21\n",
      "34\n"
     ]
    }
   ],
   "source": [
    "# Answer_6\n",
    "a = int(input(\"Enter Fibonacci No : \"))\n",
    "x=0\n",
    "y=1\n",
    "count =0\n",
    "if a<= 0:\n",
    "    print(\"Please enter positive number\")\n",
    "elif a==0:\n",
    "    print(x)\n",
    "else:\n",
    "    print(\"Fibonacci Sequence\")\n",
    "    while count<a:\n",
    "        print(x)\n",
    "        z=x+y\n",
    "        x=y\n",
    "        y=z\n",
    "        count += 1\n"
   ]
  },
  {
   "cell_type": "code",
   "execution_count": 32,
   "id": "76418210-0f9a-45e4-97c1-83660925a252",
   "metadata": {},
   "outputs": [
    {
     "data": {
      "text/plain": [
       "\"Q7. Write a List Comprehension to iterate through the given string: ‘pwskills’.\\n\\nExpected output: ['p', 'w', 's', 'k', 'i', 'l', 'l', 's']\""
      ]
     },
     "execution_count": 32,
     "metadata": {},
     "output_type": "execute_result"
    }
   ],
   "source": [
    "\"\"\"Q7. Write a List Comprehension to iterate through the given string: ‘pwskills’.\n",
    "\n",
    "Expected output: ['p', 'w', 's', 'k', 'i', 'l', 'l', 's']\"\"\""
   ]
  },
  {
   "cell_type": "code",
   "execution_count": 38,
   "id": "25d646b0-7c36-467b-9581-547fcc364ada",
   "metadata": {},
   "outputs": [],
   "source": [
    "# Answer_7\n",
    "a = \"pwskills\"\n"
   ]
  },
  {
   "cell_type": "code",
   "execution_count": 39,
   "id": "b966f2b0-bb88-4e85-bb83-87fd83d112d0",
   "metadata": {},
   "outputs": [
    {
     "data": {
      "text/plain": [
       "'pwskills'"
      ]
     },
     "execution_count": 39,
     "metadata": {},
     "output_type": "execute_result"
    }
   ],
   "source": [
    "a"
   ]
  },
  {
   "cell_type": "code",
   "execution_count": 41,
   "id": "aab3d19a-1c46-4777-a152-98e90d6faf94",
   "metadata": {},
   "outputs": [],
   "source": [
    "list = [value for value in a]"
   ]
  },
  {
   "cell_type": "code",
   "execution_count": 42,
   "id": "d19befe2-3684-4798-b709-5662168876c1",
   "metadata": {},
   "outputs": [
    {
     "data": {
      "text/plain": [
       "['p', 'w', 's', 'k', 'i', 'l', 'l', 's']"
      ]
     },
     "execution_count": 42,
     "metadata": {},
     "output_type": "execute_result"
    }
   ],
   "source": [
    "list\n"
   ]
  },
  {
   "cell_type": "code",
   "execution_count": 43,
   "id": "7ca61241-83b5-4461-a564-e7411cad3da5",
   "metadata": {},
   "outputs": [
    {
     "data": {
      "text/plain": [
       "'Q8. Write a python program to check whether a given number is Palindrome or not using a while loop.'"
      ]
     },
     "execution_count": 43,
     "metadata": {},
     "output_type": "execute_result"
    }
   ],
   "source": [
    "\"\"\"Q8. Write a python program to check whether a given number is Palindrome or not using a while loop.\"\"\""
   ]
  },
  {
   "cell_type": "code",
   "execution_count": 45,
   "id": "94ea9d57-644d-495f-8438-22836d9f11fc",
   "metadata": {},
   "outputs": [
    {
     "name": "stdin",
     "output_type": "stream",
     "text": [
      "Enter No. for checking it is palindrome or not :  12\n"
     ]
    },
    {
     "name": "stdout",
     "output_type": "stream",
     "text": [
      "Not Palindrome\n"
     ]
    }
   ],
   "source": [
    "# Answer_8\n",
    "num = int (input(\"Enter No. for checking it is palindrome or not : \"))\n",
    "temp = num\n",
    "reverse = 0\n",
    "while temp > 0:\n",
    "    remainder = temp % 10\n",
    "    reverse = (reverse * 10) + remainder\n",
    "    temp = temp // 10\n",
    "if num == reverse:\n",
    "  print('Palindrome')\n",
    "else:\n",
    "  print(\"Not Palindrome\")\n"
   ]
  },
  {
   "cell_type": "code",
   "execution_count": 46,
   "id": "3e883a91-c4b5-4f05-aeca-e3e446a36fca",
   "metadata": {},
   "outputs": [
    {
     "name": "stdin",
     "output_type": "stream",
     "text": [
      "Enter No. for checking it is palindrome or not :  121\n"
     ]
    },
    {
     "name": "stdout",
     "output_type": "stream",
     "text": [
      "Palindrome\n"
     ]
    }
   ],
   "source": [
    "# Answer_8\n",
    "num = int (input(\"Enter No. for checking it is palindrome or not : \"))\n",
    "temp = num\n",
    "reverse = 0\n",
    "while temp > 0:\n",
    "    remainder = temp % 10\n",
    "    reverse = (reverse * 10) + remainder\n",
    "    temp = temp // 10\n",
    "if num == reverse:\n",
    "  print('Palindrome')\n",
    "else:\n",
    "  print(\"Not Palindrome\")\n"
   ]
  },
  {
   "cell_type": "code",
   "execution_count": 49,
   "id": "919b9b4f-66ab-4608-8f34-5cdf6d760465",
   "metadata": {},
   "outputs": [
    {
     "data": {
      "text/plain": [
       "'Q9. Write a code to print odd numbers from 1 to 100 using list comprehension.'"
      ]
     },
     "execution_count": 49,
     "metadata": {},
     "output_type": "execute_result"
    }
   ],
   "source": [
    "\"\"\"Q9. Write a code to print odd numbers from 1 to 100 using list comprehension.\"\"\""
   ]
  },
  {
   "cell_type": "code",
   "execution_count": 50,
   "id": "bb1f60a3-1ea2-4d00-89b0-6aabc721910a",
   "metadata": {},
   "outputs": [
    {
     "data": {
      "text/plain": [
       "'Note: Use a list comprehension to create a list from 1 to 100 and use another List comprehension to filter\\nout odd numbers.'"
      ]
     },
     "execution_count": 50,
     "metadata": {},
     "output_type": "execute_result"
    }
   ],
   "source": [
    "\"\"\"Note: Use a list comprehension to create a list from 1 to 100 and use another List comprehension to filter\n",
    "out odd numbers.\"\"\""
   ]
  },
  {
   "cell_type": "code",
   "execution_count": 6,
   "id": "95e1f7cf-e3a4-40c4-aea8-cef0aa66b6e9",
   "metadata": {},
   "outputs": [
    {
     "name": "stdout",
     "output_type": "stream",
     "text": [
      "Orignal List are: [1, 2, 3, 4, 5, 6, 7, 8, 9, 10, 11, 12, 13, 14, 15, 16, 17, 18, 19, 20, 21, 22, 23, 24, 25, 26, 27, 28, 29, 30, 31, 32, 33, 34, 35, 36, 37, 38, 39, 40, 41, 42, 43, 44, 45, 46, 47, 48, 49, 50, 51, 52, 53, 54, 55, 56, 57, 58, 59, 60, 61, 62, 63, 64, 65, 66, 67, 68, 69, 70, 71, 72, 73, 74, 75, 76, 77, 78, 79, 80, 81, 82, 83, 84, 85, 86, 87, 88, 89, 90, 91, 92, 93, 94, 95, 96, 97, 98, 99, 100]\n",
      "shorted odd no list are : [1, 3, 5, 7, 9, 11, 13, 15, 17, 19, 21, 23, 25, 27, 29, 31, 33, 35, 37, 39, 41, 43, 45, 47, 49, 51, 53, 55, 57, 59, 61, 63, 65, 67, 69, 71, 73, 75, 77, 79, 81, 83, 85, 87, 89, 91, 93, 95, 97, 99]\n"
     ]
    }
   ],
   "source": [
    "# Answer_9\n",
    "list = [value for value in range (1,101)]\n",
    "print(f\"Orignal List are: {list}\")\n",
    "\n",
    "shorted_list = [value for value in list if (value%2)!= 0]\n",
    "print(f\"shorted odd no list are : {shorted_list}\")"
   ]
  },
  {
   "cell_type": "code",
   "execution_count": 52,
   "id": "6ffd3458-19b6-42a6-b9b7-4ba6d6d9556b",
   "metadata": {},
   "outputs": [
    {
     "name": "stdout",
     "output_type": "stream",
     "text": [
      "Thank You PW\n"
     ]
    }
   ],
   "source": [
    "print(\"Thank You PW\")"
   ]
  },
  {
   "cell_type": "code",
   "execution_count": null,
   "id": "5c5fc058-7dc9-4ca5-b1fc-c76fe8bc9317",
   "metadata": {},
   "outputs": [],
   "source": []
  }
 ],
 "metadata": {
  "kernelspec": {
   "display_name": "Python 3 (ipykernel)",
   "language": "python",
   "name": "python3"
  },
  "language_info": {
   "codemirror_mode": {
    "name": "ipython",
    "version": 3
   },
   "file_extension": ".py",
   "mimetype": "text/x-python",
   "name": "python",
   "nbconvert_exporter": "python",
   "pygments_lexer": "ipython3",
   "version": "3.10.8"
  }
 },
 "nbformat": 4,
 "nbformat_minor": 5
}
