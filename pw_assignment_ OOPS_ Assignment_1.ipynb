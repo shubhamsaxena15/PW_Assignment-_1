{
 "cells": [
  {
   "cell_type": "code",
   "execution_count": 3,
   "id": "7e760379-ca12-4ca2-819f-073e3430dbec",
   "metadata": {},
   "outputs": [
    {
     "data": {
      "text/plain": [
       "' Question_1 Explain Class and Object with respect to Object-Oriented Programming. Give a suitable example.'"
      ]
     },
     "execution_count": 3,
     "metadata": {},
     "output_type": "execute_result"
    }
   ],
   "source": [
    "# Question_1 \n",
    "\"\"\" Question_1 Explain Class and Object with respect to Object-Oriented Programming. Give a suitable example.\"\"\""
   ]
  },
  {
   "cell_type": "code",
   "execution_count": 5,
   "id": "498957d3-390d-4fd4-99f8-72ed44996fe1",
   "metadata": {},
   "outputs": [
    {
     "data": {
      "text/plain": [
       "' Answer_1 Class:- A class can be understood as a template or a blueprint,\\nwhich contains some values, known as data members, \\nand some set of rules, known as behaviors or methods.\\nExample:- class person\\nAttribute of class person :-  Name , Age ,Gender , Occupation.\\nMethod and function of class person :- walk() , eat() , sleep(), work()\\n\\n\\nObject :- A class contains the properties and behaviour for a set of objects, \\nmany objects can be formed using a class.\\nAn object is a class instance that allows programmers to use variables and methods from inside the class.'"
      ]
     },
     "execution_count": 5,
     "metadata": {},
     "output_type": "execute_result"
    }
   ],
   "source": [
    "# Answer_1\n",
    "\"\"\" Answer_1 Class:- A class can be understood as a template or a blueprint,\n",
    "which contains some values, known as data members, \n",
    "and some set of rules, known as behaviors or methods.\n",
    "Example:- class person\n",
    "Attribute of class person :-  Name , Age ,Gender , Occupation.\n",
    "Method and function of class person :- walk() , eat() , sleep(), work()\n",
    "\n",
    "\n",
    "Object :- A class contains the properties and behaviour for a set of objects, \n",
    "many objects can be formed using a class.\n",
    "An object is a class instance that allows programmers to use variables and methods from inside the class.\"\"\"\n"
   ]
  },
  {
   "cell_type": "code",
   "execution_count": 6,
   "id": "c91c1c55-8c90-4cbf-8523-1447a118cb08",
   "metadata": {},
   "outputs": [],
   "source": [
    "# Answer_1\n",
    "# Example :- Create a Class\n",
    "\n",
    "class Myclass():\n",
    "    def welcome_msg(self):\n",
    "        print(\"This class name  is 'My class' \")\n",
    "        \n"
   ]
  },
  {
   "cell_type": "code",
   "execution_count": 8,
   "id": "c41a9069-2a06-46fa-9fac-6628a1ef93d7",
   "metadata": {},
   "outputs": [
    {
     "name": "stdout",
     "output_type": "stream",
     "text": [
      "This class name  is 'My class' \n"
     ]
    }
   ],
   "source": [
    "# example :- Create a object of My class\n",
    "\n",
    "myclass_obj = Myclass()\n",
    "myclass_obj.welcome_msg()"
   ]
  },
  {
   "cell_type": "code",
   "execution_count": 9,
   "id": "15336eb1-dcb2-4ee7-83bf-668b42c74565",
   "metadata": {},
   "outputs": [
    {
     "data": {
      "text/plain": [
       "'Question_2 Name the four pillars of OOPs.'"
      ]
     },
     "execution_count": 9,
     "metadata": {},
     "output_type": "execute_result"
    }
   ],
   "source": [
    "# Question_2 \n",
    "\"\"\"Question_2 Name the four pillars of OOPs.\"\"\""
   ]
  },
  {
   "cell_type": "code",
   "execution_count": 10,
   "id": "ad434a94-f122-4793-8a56-ef069a1ffaf2",
   "metadata": {},
   "outputs": [
    {
     "data": {
      "text/plain": [
       "\" Answer_2 :- These four pillars are Inheritance, Polymorphism, Encapsulation and Abstraction.\\nInheritance:-\\nIn Python it is possible to create an object that inherits the methods and properties of another object. \\nThis is called inheritance\\n\\nPolymorphism:-\\nPolymorphism simply means 'many forms'. In Python this means that \\nyou can have one function or object that can be used in different ways. \\n\\nEncapsulation:-\\nEncapsulation is the process of making data private by wrapping data and\\nits methods in a 'capsule' or unit, so that it can not be accessed or modified outside of that unit. \\nThis is achieved by making variables inside a class private. \\nIn Python we can make variables private by prefixing the variable name with a double underscore '__'. \\n\\nAbstraction:-\\nAbstraction is about keeping the process simple by hiding unnecessary details from the user.\""
      ]
     },
     "execution_count": 10,
     "metadata": {},
     "output_type": "execute_result"
    }
   ],
   "source": [
    "# Answer_2\n",
    "\"\"\" Answer_2 :- These four pillars are Inheritance, Polymorphism, Encapsulation and Abstraction.\n",
    "Inheritance:-\n",
    "In Python it is possible to create an object that inherits the methods and properties of another object. \n",
    "This is called inheritance\n",
    "\n",
    "Polymorphism:-\n",
    "Polymorphism simply means 'many forms'. In Python this means that \n",
    "you can have one function or object that can be used in different ways. \n",
    "\n",
    "Encapsulation:-\n",
    "Encapsulation is the process of making data private by wrapping data and\n",
    "its methods in a 'capsule' or unit, so that it can not be accessed or modified outside of that unit. \n",
    "This is achieved by making variables inside a class private. \n",
    "In Python we can make variables private by prefixing the variable name with a double underscore '__'. \n",
    "\n",
    "Abstraction:-\n",
    "Abstraction is about keeping the process simple by hiding unnecessary details from the user.\"\"\"\n"
   ]
  },
  {
   "cell_type": "code",
   "execution_count": 12,
   "id": "433d934c-20c2-4c18-8785-09e3b2169376",
   "metadata": {},
   "outputs": [
    {
     "data": {
      "text/plain": [
       "'Question_3 :- Explain why the __init__() function is used. Give a suitable example.'"
      ]
     },
     "execution_count": 12,
     "metadata": {},
     "output_type": "execute_result"
    }
   ],
   "source": [
    "# Question_3\n",
    "\"\"\"Question_3 :- Explain why the __init__() function is used. Give a suitable example.\"\"\""
   ]
  },
  {
   "cell_type": "code",
   "execution_count": 14,
   "id": "5377cd7e-791f-4944-b70a-36d53bed7970",
   "metadata": {},
   "outputs": [
    {
     "data": {
      "text/plain": [
       "'All classes have a function called __init__(), which is always executed \\nwhen the class is being initiated.\\nUse the __init__() function to assign values to object properties, \\nor other operations that are necessary to do when the object is being created.'"
      ]
     },
     "execution_count": 14,
     "metadata": {},
     "output_type": "execute_result"
    }
   ],
   "source": [
    "# Answer_3\n",
    "\"\"\"All classes have a function called __init__(), which is always executed \n",
    "when the class is being initiated.\n",
    "Use the __init__() function to assign values to object properties, \n",
    "or other operations that are necessary to do when the object is being created.\"\"\"\n"
   ]
  },
  {
   "cell_type": "code",
   "execution_count": 27,
   "id": "8a6fb2cd-c25d-4a3d-9152-6fae2cf4e8f1",
   "metadata": {},
   "outputs": [
    {
     "data": {
      "text/plain": [
       "14"
      ]
     },
     "execution_count": 27,
     "metadata": {},
     "output_type": "execute_result"
    }
   ],
   "source": [
    "# Answer_3\n",
    "class addition():\n",
    "    def __init__(self, a,b,c,d):\n",
    "        self.a=a\n",
    "        self.b=b\n",
    "        self.c=c\n",
    "        self.d=d\n",
    "        \n",
    "    def add(self):\n",
    "        f = self.a + self. b + self.c + self.d\n",
    "        return f\n",
    "        \n",
    "obj=addition(2,3,4,5)\n",
    "obj.add()\n"
   ]
  },
  {
   "cell_type": "code",
   "execution_count": 28,
   "id": "951e43c0-0c1c-4629-84dd-cac3c8b0e1e9",
   "metadata": {},
   "outputs": [],
   "source": [
    "# Question _4 Why self is used in OOPs?"
   ]
  },
  {
   "cell_type": "code",
   "execution_count": 31,
   "id": "f00684c5-6620-4052-8ba8-e94084a4c73b",
   "metadata": {},
   "outputs": [
    {
     "data": {
      "text/plain": [
       "'self represents the instance of the class.\\nBy using the “self”  we can access the attributes and methods of the class in python.\\nIt binds the attributes with the given arguments.\\n the first parameter of methods is the instance the method is called on.'"
      ]
     },
     "execution_count": 31,
     "metadata": {},
     "output_type": "execute_result"
    }
   ],
   "source": [
    "# Answer_4\n",
    "\"\"\"self represents the instance of the class.\n",
    "By using the “self”  we can access the attributes and methods of the class in python.\n",
    "It binds the attributes with the given arguments.\n",
    " the first parameter of methods is the instance the method is called on.\"\"\""
   ]
  },
  {
   "cell_type": "code",
   "execution_count": 32,
   "id": "78fa5138-7d04-4a7c-aabc-0f4dcdca3960",
   "metadata": {},
   "outputs": [
    {
     "data": {
      "text/plain": [
       "'Question_5 What is inheritance? Give an example for each type of inheritance.'"
      ]
     },
     "execution_count": 32,
     "metadata": {},
     "output_type": "execute_result"
    }
   ],
   "source": [
    "# Question_5\n",
    "\"\"\"Question_5 What is inheritance? Give an example for each type of inheritance.\"\"\""
   ]
  },
  {
   "cell_type": "code",
   "execution_count": 33,
   "id": "30b391cf-9461-4848-9c63-0a1b088334b2",
   "metadata": {},
   "outputs": [
    {
     "data": {
      "text/plain": [
       "'In Python it is possible to create an object that inherits the methods and properties of another object. \\nThis is called inheritance'"
      ]
     },
     "execution_count": 33,
     "metadata": {},
     "output_type": "execute_result"
    }
   ],
   "source": [
    "# Answer_5\n",
    "\"\"\"In Python it is possible to create an object that inherits the methods and properties of another object. \n",
    "This is called inheritance\"\"\"\n"
   ]
  },
  {
   "cell_type": "code",
   "execution_count": 35,
   "id": "82cd72a8-bc69-4ae7-acce-605ce6fc7c47",
   "metadata": {},
   "outputs": [
    {
     "name": "stdout",
     "output_type": "stream",
     "text": [
      "welcome by parent class\n",
      " course fee is : 3000\n",
      "data science master \n"
     ]
    }
   ],
   "source": [
    "# Answer_5\n",
    "# Example of Multi level inheritance:-\n",
    "class parent_class():\n",
    "    def welcome_msg(self):\n",
    "        print(\"welcome by parent class\")\n",
    "    \n",
    "class class_a(parent_class):\n",
    "    def course_detail(self):\n",
    "        print(\"data science master \")\n",
    "        \n",
    "class class_b(class_a):\n",
    "    def course_fee(self):\n",
    "        print(\" course fee is : 3000\")\n",
    "        \n",
    "obj = class_b()\n",
    "obj.welcome_msg()\n",
    "obj.course_fee()\n",
    "obj.course_detail()\n",
    "                   \n"
   ]
  },
  {
   "cell_type": "code",
   "execution_count": 36,
   "id": "98c53f95-f655-4336-97b1-7df7b827e7f4",
   "metadata": {},
   "outputs": [
    {
     "name": "stdout",
     "output_type": "stream",
     "text": [
      "lion dog tiger cat\n",
      "Eagle Peacock Pigeon\n"
     ]
    }
   ],
   "source": [
    "# Answer_5\n",
    "# EXample of Multiple inheritence:-\n",
    "class Animal():\n",
    "    def animal_name(self):\n",
    "        print(\"lion\",\"dog\",\"tiger\",\"cat\")\n",
    "\n",
    "class Birds():\n",
    "    def birds_name(self):\n",
    "        print(\"Eagle\",\"Peacock\",\"Pigeon\")\n",
    "        \n",
    "class child_class(Animal,Birds):\n",
    "    pass\n",
    "\n",
    "child_class_obj = child_class()\n",
    "child_class_obj.animal_name()\n",
    "child_class_obj.birds_name()"
   ]
  },
  {
   "cell_type": "code",
   "execution_count": null,
   "id": "5af0e942-b16f-49f7-8412-d7a3b8a2dfb5",
   "metadata": {},
   "outputs": [],
   "source": []
  }
 ],
 "metadata": {
  "kernelspec": {
   "display_name": "Python 3 (ipykernel)",
   "language": "python",
   "name": "python3"
  },
  "language_info": {
   "codemirror_mode": {
    "name": "ipython",
    "version": 3
   },
   "file_extension": ".py",
   "mimetype": "text/x-python",
   "name": "python",
   "nbconvert_exporter": "python",
   "pygments_lexer": "ipython3",
   "version": "3.10.8"
  }
 },
 "nbformat": 4,
 "nbformat_minor": 5
}
