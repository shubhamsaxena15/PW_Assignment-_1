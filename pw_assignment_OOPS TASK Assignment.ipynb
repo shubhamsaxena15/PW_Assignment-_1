{
 "cells": [
  {
   "cell_type": "code",
   "execution_count": 7,
   "id": "9f17e85c-11e6-455c-bdb0-8a51c56e1feb",
   "metadata": {},
   "outputs": [
    {
     "data": {
      "text/plain": [
       "' Question_1 Create a vehicle class with an init method having instance variables as\\nname_of_vehicle, max_speed and average_of_vehicle.'"
      ]
     },
     "execution_count": 7,
     "metadata": {},
     "output_type": "execute_result"
    }
   ],
   "source": [
    "# Question_1 \n",
    "\"\"\" Question_1 Create a vehicle class with an init method having instance variables as\n",
    "name_of_vehicle, max_speed and average_of_vehicle.\"\"\""
   ]
  },
  {
   "cell_type": "code",
   "execution_count": 8,
   "id": "50c3de39-6362-4461-936c-a966ce8dfba4",
   "metadata": {},
   "outputs": [
    {
     "name": "stdout",
     "output_type": "stream",
     "text": [
      "car 80kmph 100\n"
     ]
    }
   ],
   "source": [
    "# Answer_1\n",
    "class Vehicle():\n",
    "    def __init__ (self,name_of_vehicle,max_speed,average_of_vehicle):\n",
    "        self.name_of_vehicle = name_of_vehicle\n",
    "        self.max_speed = max_speed\n",
    "        self.average_of_vehicle = average_of_vehicle\n",
    "    def vehicle_detail(self):\n",
    "        print(self.name_of_vehicle,self.max_speed,self.average_of_vehicle)\n",
    "        \n",
    "vehi= Vehicle(\"car\" , \"80kmph\" , 100)\n",
    "vehi.vehicle_detail()\n",
    "        \n",
    "        "
   ]
  },
  {
   "cell_type": "code",
   "execution_count": 9,
   "id": "af6e8a6c-38a3-475a-a265-15c8742511f7",
   "metadata": {},
   "outputs": [
    {
     "data": {
      "text/plain": [
       "' Question_2 Create a child class car from the vehicle class created in Que 1, which will inherit the vehicle class.\\nCreate a method named seating_capacity which takes capacity as an argument and returns the name of\\nthe vehicle and its seating capacity.'"
      ]
     },
     "execution_count": 9,
     "metadata": {},
     "output_type": "execute_result"
    }
   ],
   "source": [
    "# Question_2\n",
    "\"\"\" Question_2 Create a child class car from the vehicle class created in Que 1, which will inherit the vehicle class.\n",
    "Create a method named seating_capacity which takes capacity as an argument and returns the name of\n",
    "the vehicle and its seating capacity.\"\"\""
   ]
  },
  {
   "cell_type": "code",
   "execution_count": 27,
   "id": "fee03e2a-7183-488c-a20f-5c2c74e2f006",
   "metadata": {},
   "outputs": [
    {
     "data": {
      "text/plain": [
       "('baleno', 8)"
      ]
     },
     "execution_count": 27,
     "metadata": {},
     "output_type": "execute_result"
    }
   ],
   "source": [
    "class Vehicle():\n",
    "    def __init__ (self,name_of_vehicle,max_speed,average_of_vehicle):\n",
    "        self.name_of_vehicle = name_of_vehicle\n",
    "        self.max_speed = max_speed\n",
    "        self.average_of_vehicle = average_of_vehicle\n",
    "    \n",
    "    def vehicle_detail(self):\n",
    "        print(self.name_of_vehicle,self.max_speed,self.average_of_vehicle)\n",
    "        \n",
    "class Car(Vehicle):\n",
    "    def __init__ (self,name_of_vehicle,max_speed,average_of_vehicle):\n",
    "        super().__init__(name_of_vehicle,max_speed,average_of_vehicle)\n",
    "    \n",
    "    def seating_capacity(self,capacity):\n",
    "        return self.name_of_vehicle,capacity\n",
    "    \n",
    "\n",
    "child_class_object = Car(\"baleno\" , 80,200)\n",
    "child_class_object.seating_capacity(8)\n",
    "    \n",
    "    \n",
    "        \n"
   ]
  },
  {
   "cell_type": "code",
   "execution_count": 28,
   "id": "41172d9b-2565-48a0-9962-f28ad64d0657",
   "metadata": {},
   "outputs": [
    {
     "data": {
      "text/plain": [
       "' Question_3 What is multiple inheritance? Write a python code to demonstrate multiple inheritance.'"
      ]
     },
     "execution_count": 28,
     "metadata": {},
     "output_type": "execute_result"
    }
   ],
   "source": [
    "# Question_3\n",
    "\"\"\" Question_3 What is multiple inheritance? Write a python code to demonstrate multiple inheritance.\"\"\""
   ]
  },
  {
   "cell_type": "code",
   "execution_count": 32,
   "id": "7abc053c-aa8c-4eb7-9180-f397787c8b79",
   "metadata": {},
   "outputs": [
    {
     "name": "stdout",
     "output_type": "stream",
     "text": [
      "lion dog tiger cat\n",
      "Eagle Peacock Pigeon\n"
     ]
    }
   ],
   "source": [
    "# Answer_3 \n",
    "# When a class is derived from more than one base class it is called multiple Inheritance. \n",
    "# The derived class inherits all the features of the base case.\n",
    "# Example of multiple Inheritance.\n",
    "\n",
    "class Animal():\n",
    "    def animal_name(self):\n",
    "        print(\"lion\",\"dog\",\"tiger\",\"cat\")\n",
    "\n",
    "class Birds():\n",
    "    def birds_name(self):\n",
    "        print(\"Eagle\",\"Peacock\",\"Pigeon\")\n",
    "        \n",
    "class child_class(Animal,Birds):\n",
    "    pass\n",
    "\n",
    "child_class_obj = child_class()\n",
    "child_class_obj.animal_name()\n",
    "child_class_obj.birds_name()"
   ]
  },
  {
   "cell_type": "code",
   "execution_count": 34,
   "id": "f6c5a7c6-4515-4353-9053-97656239025b",
   "metadata": {},
   "outputs": [
    {
     "data": {
      "text/plain": [
       "' Question_4 What are getter and setter in python? Create a class and create a getter \\nand a setter method in this class.'"
      ]
     },
     "execution_count": 34,
     "metadata": {},
     "output_type": "execute_result"
    }
   ],
   "source": [
    "# Question_4\n",
    "\"\"\" Question_4 What are getter and setter in python? Create a class and create a getter \n",
    "and a setter method in this class.\"\"\""
   ]
  },
  {
   "cell_type": "code",
   "execution_count": 41,
   "id": "aa8d5799-6914-4b84-8fd9-fa3331bb870d",
   "metadata": {},
   "outputs": [
    {
     "data": {
      "text/plain": [
       "20"
      ]
     },
     "execution_count": 41,
     "metadata": {},
     "output_type": "execute_result"
    }
   ],
   "source": [
    "# Answer_4\n",
    "\n",
    "# Getter: A method that allows you to access an attribute in a given class.\n",
    "# Setter: A method that allows you to set or mutate the value of an attribute in a class.\n",
    "\n",
    "class get_set():\n",
    "    def __init__ (self,age):\n",
    "        self.__age = age\n",
    "    # getter method\n",
    "    \n",
    "    def get_age(self):\n",
    "        return self.__age\n",
    "    \n",
    "    def set_age (self , new_age):\n",
    "        if new_age <= 0:\n",
    "            pass\n",
    "        else:\n",
    "            self.__age = new_age\n",
    "            \n",
    "            \n",
    "getset = get_set(20)\n",
    "getset.get_age()\n",
    "        "
   ]
  },
  {
   "cell_type": "code",
   "execution_count": 42,
   "id": "f2cbdd74-90e0-49f0-9da2-e31e5c7954dc",
   "metadata": {},
   "outputs": [],
   "source": [
    "getset.set_age(22)"
   ]
  },
  {
   "cell_type": "code",
   "execution_count": 43,
   "id": "4bf42084-d97c-4339-9fc7-6b4e6f394d12",
   "metadata": {},
   "outputs": [
    {
     "data": {
      "text/plain": [
       "22"
      ]
     },
     "execution_count": 43,
     "metadata": {},
     "output_type": "execute_result"
    }
   ],
   "source": [
    "getset.get_age()"
   ]
  },
  {
   "cell_type": "code",
   "execution_count": 45,
   "id": "889dabfa-32f1-4bb5-b5bb-373e3624dee7",
   "metadata": {},
   "outputs": [
    {
     "data": {
      "text/plain": [
       "' Question_5 What is method overriding in python? Write a python code to demonstrate method overriding.'"
      ]
     },
     "execution_count": 45,
     "metadata": {},
     "output_type": "execute_result"
    }
   ],
   "source": [
    "# Question_5\n",
    "\"\"\" Question_5 What is method overriding in python? Write a python code to demonstrate method overriding.\"\"\""
   ]
  },
  {
   "cell_type": "code",
   "execution_count": 47,
   "id": "723fce11-64ee-4b86-88c5-50e1a8269d34",
   "metadata": {},
   "outputs": [
    {
     "data": {
      "text/plain": [
       "'When a child class method overrides the parent class method of the same name, parameters and return type, \\nit is known as method overriding. \\nIn this case, the child class method is called the overriding method \\nand the parent class method is called the overriden method.'"
      ]
     },
     "execution_count": 47,
     "metadata": {},
     "output_type": "execute_result"
    }
   ],
   "source": [
    "# Answer_5\n",
    "\"\"\"When a child class method overrides the parent class method of the same name, parameters and return type, \n",
    "it is known as method overriding. \n",
    "In this case, the child class method is called the overriding method \n",
    "and the parent class method is called the overriden method.\"\"\""
   ]
  },
  {
   "cell_type": "code",
   "execution_count": 54,
   "id": "59bbe8f0-0c6d-424e-90d4-2cf9b31e92d3",
   "metadata": {},
   "outputs": [
    {
     "name": "stdout",
     "output_type": "stream",
     "text": [
      " welcome msg by child class\n",
      " cong msg by child class\n",
      "thanks msg from parent class\n",
      "thank you pw\n"
     ]
    }
   ],
   "source": [
    "class Parent():\n",
    "    def welcome_msg(self):\n",
    "        print(\" welcome msg by parent class\")\n",
    "              \n",
    "    def cong_msg(self):\n",
    "        print(\" cong msg by parent class\")\n",
    "        \n",
    "    def thanks_msg(self):    \n",
    "        print(\"thanks msg from parent class\")\n",
    "        \n",
    "class child(Parent):\n",
    "    def welcome_msg(self):\n",
    "        print(\" welcome msg by child class\")\n",
    "        \n",
    "    def cong_msg(self):\n",
    "        print(\" cong msg by child class\")\n",
    "        \n",
    "        \n",
    "    def msg(self):\n",
    "        print(\"thank you pw\")\n",
    "        \n",
    "obj_child_class= child()\n",
    "obj_child_class.welcome_msg()\n",
    "\n",
    "obj_child_class.cong_msg()\n",
    "\n",
    "obj_child_class.thanks_msg()\n",
    "\n",
    "obj_child_class.msg()\n",
    "              \n",
    "              "
   ]
  },
  {
   "cell_type": "code",
   "execution_count": null,
   "id": "3b40d947-2357-47b0-9cae-8d45b2441fb8",
   "metadata": {},
   "outputs": [],
   "source": []
  }
 ],
 "metadata": {
  "kernelspec": {
   "display_name": "Python 3 (ipykernel)",
   "language": "python",
   "name": "python3"
  },
  "language_info": {
   "codemirror_mode": {
    "name": "ipython",
    "version": 3
   },
   "file_extension": ".py",
   "mimetype": "text/x-python",
   "name": "python",
   "nbconvert_exporter": "python",
   "pygments_lexer": "ipython3",
   "version": "3.10.8"
  }
 },
 "nbformat": 4,
 "nbformat_minor": 5
}
