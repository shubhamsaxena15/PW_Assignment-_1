{
 "cells": [
  {
   "cell_type": "code",
   "execution_count": 1,
   "id": "d9289246-0d45-40bb-803d-c475b9fd8e28",
   "metadata": {},
   "outputs": [
    {
     "data": {
      "text/plain": [
       "'Q1. Create a python program to sort the given list of tuples based on integer value using a lambda function.'"
      ]
     },
     "execution_count": 1,
     "metadata": {},
     "output_type": "execute_result"
    }
   ],
   "source": [
    "\"\"\"Q1. Create a python program to sort the given list of tuples based on integer value using a lambda function.\"\"\""
   ]
  },
  {
   "cell_type": "code",
   "execution_count": 2,
   "id": "f1633fa6-b58d-4cad-a485-de989bd6e741",
   "metadata": {},
   "outputs": [],
   "source": [
    "#[('Sachin Tendulkar', 34357), ('Ricky Ponting', 27483), ('Jack Kallis', 25534), ('Virat Kohli', 24936)]"
   ]
  },
  {
   "cell_type": "code",
   "execution_count": 3,
   "id": "2e6c51c4-a67d-44c2-8495-9fede1370f8b",
   "metadata": {},
   "outputs": [],
   "source": [
    "# Answer_1\n",
    "#l = [('Sachin Tendulkar', 34357), ('Ricky Ponting', 27483), ('Jack Kallis', 25534), ('Virat Kohli', 24936)]"
   ]
  },
  {
   "cell_type": "code",
   "execution_count": 20,
   "id": "32d8bb65-ab61-4ede-9150-400f07c92889",
   "metadata": {},
   "outputs": [
    {
     "name": "stdout",
     "output_type": "stream",
     "text": [
      "[('Virat Kohli', 24936), ('Jack Kallis', 25534), ('Ricky Ponting', 27483), ('Sachin Tendulkar', 34357)]\n"
     ]
    }
   ],
   "source": [
    "l = [('Sachin Tendulkar', 34357), ('Ricky Ponting', 27483), ('Jack Kallis', 25534), ('Virat Kohli', 24936)]\n",
    "l.sort(key=lambda a: a[1], reverse = False)\n",
    "print(l)"
   ]
  },
  {
   "cell_type": "code",
   "execution_count": 5,
   "id": "ecc3bed8-e337-4bfb-9a37-a8671c09a778",
   "metadata": {},
   "outputs": [
    {
     "data": {
      "text/plain": [
       "'Q2. Write a Python Program to find the squares of all the numbers in the given list of integers using\\nlambda and map functions.\\n[1, 2, 3, 4, 5, 6, 7, 8, 9, 10]'"
      ]
     },
     "execution_count": 5,
     "metadata": {},
     "output_type": "execute_result"
    }
   ],
   "source": [
    "\"\"\"Q2. Write a Python Program to find the squares of all the numbers in the given list of integers using\n",
    "lambda and map functions.\n",
    "[1, 2, 3, 4, 5, 6, 7, 8, 9, 10]\"\"\""
   ]
  },
  {
   "cell_type": "code",
   "execution_count": 21,
   "id": "283f51c1-d5d5-44dc-9550-92d7d63637ee",
   "metadata": {},
   "outputs": [
    {
     "name": "stdout",
     "output_type": "stream",
     "text": [
      "[1, 4, 9, 16, 25, 36, 49, 64, 81, 100]\n"
     ]
    }
   ],
   "source": [
    "# Answer_2\n",
    "l=[1, 2, 3, 4, 5, 6, 7, 8, 9, 10]\n",
    "square_list = list(map(lambda x:x**2 , l))\n",
    "print(square_list)"
   ]
  },
  {
   "cell_type": "code",
   "execution_count": 22,
   "id": "dfd970b0-fd6d-4295-ad77-27b02162062e",
   "metadata": {},
   "outputs": [
    {
     "data": {
      "text/plain": [
       "\"Q3. Write a python program to convert the given list of integers into a tuple of strings. Use map and\\nlambda functions\\nGiven String: [1, 2, 3, 4, 5, 6, 7, 8, 9, 10]\\nExpected output: ('1', '2', '3', '4', '5', '6', '7', '8', '9', '10')\""
      ]
     },
     "execution_count": 22,
     "metadata": {},
     "output_type": "execute_result"
    }
   ],
   "source": [
    "\"\"\"Q3. Write a python program to convert the given list of integers into a tuple of strings. Use map and\n",
    "lambda functions\n",
    "Given String: [1, 2, 3, 4, 5, 6, 7, 8, 9, 10]\n",
    "Expected output: ('1', '2', '3', '4', '5', '6', '7', '8', '9', '10')\"\"\""
   ]
  },
  {
   "cell_type": "code",
   "execution_count": 23,
   "id": "247d701a-97d1-42e3-adf8-4fa6989ea0a3",
   "metadata": {},
   "outputs": [
    {
     "name": "stdout",
     "output_type": "stream",
     "text": [
      "['1', '2', '3', '4', '5', '6', '7', '8', '9', '10']\n"
     ]
    }
   ],
   "source": [
    "# Answer_3\n",
    "l=[1, 2, 3, 4, 5, 6, 7, 8, 9, 10]\n",
    "list1=list(map(lambda x: str(x) , l))\n",
    "print(list1)"
   ]
  },
  {
   "cell_type": "code",
   "execution_count": 9,
   "id": "bc7f3394-ac8c-43cc-bf08-5e1b6d8d2174",
   "metadata": {},
   "outputs": [
    {
     "data": {
      "text/plain": [
       "'Q4. Write a python program using reduce function to compute the product of a list containing numbers\\nfrom 1 to 25.'"
      ]
     },
     "execution_count": 9,
     "metadata": {},
     "output_type": "execute_result"
    }
   ],
   "source": [
    "\"\"\"Q4. Write a python program using reduce function to compute the product of a list containing numbers\n",
    "from 1 to 25.\"\"\""
   ]
  },
  {
   "cell_type": "code",
   "execution_count": 10,
   "id": "6a9528f2-a6fb-4e51-8cfd-ee0f20216be8",
   "metadata": {},
   "outputs": [
    {
     "name": "stdout",
     "output_type": "stream",
     "text": [
      "[1, 2, 3, 4, 5, 6, 7, 8, 9, 10, 11, 12, 13, 14, 15, 16, 17, 18, 19, 20, 21, 22, 23, 24, 25]\n"
     ]
    }
   ],
   "source": [
    "# Answer_4\n",
    "l = [value for value in range(1,26)]\n",
    "print(l)"
   ]
  },
  {
   "cell_type": "code",
   "execution_count": 33,
   "id": "278ae9dc-bcd6-451b-b959-ca25df0cb878",
   "metadata": {},
   "outputs": [
    {
     "name": "stdout",
     "output_type": "stream",
     "text": [
      "15511210043330985984000000\n"
     ]
    }
   ],
   "source": [
    "l=[1, 2, 3, 4, 5, 6, 7, 8, 9, 10, 11, 12, 13, 14, 15, 16, 17, 18, 19, 20, 21, 22, 23, 24, 25]\n",
    "\n",
    "import functools\n",
    "reduce_list = functools.reduce(lambda x,y:x*y , l)\n",
    "print(reduce_list)"
   ]
  },
  {
   "cell_type": "code",
   "execution_count": 26,
   "id": "8ee11a59-a87d-46ff-a4d4-277bb3fc9d9c",
   "metadata": {},
   "outputs": [
    {
     "data": {
      "text/plain": [
       "'Q5. Write a python program to filter the numbers in a given list that are divisible by 2 and 3 using the\\nfilter function.\\n[2, 3, 6, 9, 27, 60, 90, 120, 55, 46]'"
      ]
     },
     "execution_count": 26,
     "metadata": {},
     "output_type": "execute_result"
    }
   ],
   "source": [
    "\"\"\"Q5. Write a python program to filter the numbers in a given list that are divisible by 2 and 3 using the\n",
    "filter function.\n",
    "[2, 3, 6, 9, 27, 60, 90, 120, 55, 46]\"\"\""
   ]
  },
  {
   "cell_type": "code",
   "execution_count": 35,
   "id": "4af703c9-0243-497d-8c65-aa7fe50528e8",
   "metadata": {},
   "outputs": [
    {
     "name": "stdout",
     "output_type": "stream",
     "text": [
      "[6, 60, 90, 120]\n"
     ]
    }
   ],
   "source": [
    "# Answer_5\n",
    "l=[2, 3, 6, 9, 27, 60, 90, 120, 55, 46]\n",
    "filter_list = list(filter(lambda x : x if x%2==0 and x%3==0 else None , l))\n",
    "print(filter_list)\n"
   ]
  },
  {
   "cell_type": "code",
   "execution_count": 14,
   "id": "73f7ddb8-1cee-4cd6-aeef-9be7f0575c28",
   "metadata": {},
   "outputs": [
    {
     "data": {
      "text/plain": [
       "\"Q6. Write a python program to find palindromes in the given list of strings using lambda and filter\\nfunction.\\n['python', 'php', 'aba', 'radar', 'level']\""
      ]
     },
     "execution_count": 14,
     "metadata": {},
     "output_type": "execute_result"
    }
   ],
   "source": [
    "\"\"\"Q6. Write a python program to find palindromes in the given list of strings using lambda and filter\n",
    "function.\n",
    "['python', 'php', 'aba', 'radar', 'level']\"\"\""
   ]
  },
  {
   "cell_type": "code",
   "execution_count": 34,
   "id": "fe3d181d-4761-41fe-9f8d-c64e83dba133",
   "metadata": {},
   "outputs": [
    {
     "name": "stdout",
     "output_type": "stream",
     "text": [
      "['php', 'aba', 'radar', 'level']\n"
     ]
    }
   ],
   "source": [
    "# Answer_6\n",
    "li=['python', 'php', 'aba', 'radar', 'level']\n",
    "result = list(filter(lambda x: (x == ''.join(reversed(x))), li))\n",
    "print(result)"
   ]
  },
  {
   "cell_type": "code",
   "execution_count": 16,
   "id": "0b15f5d7-2fe0-497d-bca0-f6e0607ada2d",
   "metadata": {},
   "outputs": [
    {
     "name": "stdout",
     "output_type": "stream",
     "text": [
      "Thank You PW\n"
     ]
    }
   ],
   "source": [
    "print(\"Thank You PW\")"
   ]
  },
  {
   "cell_type": "code",
   "execution_count": null,
   "id": "e03f49ef-c387-4b55-8281-03083d4ab9f9",
   "metadata": {},
   "outputs": [],
   "source": []
  }
 ],
 "metadata": {
  "kernelspec": {
   "display_name": "Python 3 (ipykernel)",
   "language": "python",
   "name": "python3"
  },
  "language_info": {
   "codemirror_mode": {
    "name": "ipython",
    "version": 3
   },
   "file_extension": ".py",
   "mimetype": "text/x-python",
   "name": "python",
   "nbconvert_exporter": "python",
   "pygments_lexer": "ipython3",
   "version": "3.10.8"
  }
 },
 "nbformat": 4,
 "nbformat_minor": 5
}
